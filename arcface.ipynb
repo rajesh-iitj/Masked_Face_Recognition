{
  "cells": [
    {
      "cell_type": "code",
      "execution_count": null,
      "metadata": {
        "id": "1P5pKW961NII"
      },
      "outputs": [],
      "source": []
    },
    {
      "cell_type": "code",
      "execution_count": 1,
      "metadata": {
        "id": "HEXQXnaL1VeN",
        "colab": {
          "base_uri": "https://localhost:8080/"
        },
        "outputId": "76a2ceae-6214-4879-8f1c-b2aeb424cb6f"
      },
      "outputs": [
        {
          "output_type": "stream",
          "name": "stdout",
          "text": [
            "Drive already mounted at /content/drive; to attempt to forcibly remount, call drive.mount(\"/content/drive\", force_remount=True).\n"
          ]
        }
      ],
      "source": [
        "from google.colab import drive\n",
        "drive.mount('/content/drive')\n"
      ]
    },
    {
      "cell_type": "code",
      "source": [],
      "metadata": {
        "id": "DCst4xxWZ0mi"
      },
      "execution_count": null,
      "outputs": []
    },
    {
      "cell_type": "code",
      "source": [
        "!gdown 1wqLxMbV335dHkX_7lLCROABd6-aC149B"
      ],
      "metadata": {
        "colab": {
          "base_uri": "https://localhost:8080/"
        },
        "id": "XEWy5jKwosvp",
        "outputId": "35e47edf-28a7-4698-eca8-3e5712884701"
      },
      "execution_count": 2,
      "outputs": [
        {
          "output_type": "stream",
          "name": "stdout",
          "text": [
            "Downloading...\n",
            "From: https://drive.google.com/uc?id=1wqLxMbV335dHkX_7lLCROABd6-aC149B\n",
            "To: /content/train.tar.bz2\n",
            "100% 2.74G/2.74G [00:11<00:00, 248MB/s]\n"
          ]
        }
      ]
    },
    {
      "cell_type": "code",
      "source": [
        "import tarfile\n",
        "\n",
        "with tarfile.open('train.tar.bz2', 'r:bz2') as tar:\n",
        "    tar.extractall('/content/')"
      ],
      "metadata": {
        "id": "zCS2gDkXo5KZ"
      },
      "execution_count": 3,
      "outputs": []
    },
    {
      "cell_type": "code",
      "source": [
        "!gdown 1bVP3gbAHjzB33wkEbG8MChd7tp1Ee2Oo"
      ],
      "metadata": {
        "colab": {
          "base_uri": "https://localhost:8080/"
        },
        "id": "2FI-Fme0vvd3",
        "outputId": "aded5154-1bdb-440c-bf11-88c4fad14c1c"
      },
      "execution_count": 4,
      "outputs": [
        {
          "output_type": "stream",
          "name": "stdout",
          "text": [
            "Downloading...\n",
            "From: https://drive.google.com/uc?id=1bVP3gbAHjzB33wkEbG8MChd7tp1Ee2Oo\n",
            "To: /content/test.tar.bz2\n",
            "100% 155M/155M [00:02<00:00, 60.7MB/s]\n"
          ]
        }
      ]
    },
    {
      "cell_type": "code",
      "source": [
        "import tarfile\n",
        "\n",
        "with tarfile.open('test.tar.bz2', 'r:bz2') as tar:\n",
        "    tar.extractall('/content/')"
      ],
      "metadata": {
        "id": "Jc4hACnKvvpl"
      },
      "execution_count": 5,
      "outputs": []
    },
    {
      "cell_type": "code",
      "execution_count": null,
      "metadata": {
        "colab": {
          "base_uri": "https://localhost:8080/"
        },
        "id": "L38r8RjY2RvM",
        "outputId": "99cf1d67-d822-453c-8ed7-002644d2daf7"
      },
      "outputs": [
        {
          "name": "stdout",
          "output_type": "stream",
          "text": [
            "Cloning into 'Masked_Face_Recognition'...\n",
            "remote: Enumerating objects: 396, done.\u001b[K\n",
            "remote: Counting objects: 100% (82/82), done.\u001b[K\n",
            "remote: Compressing objects: 100% (39/39), done.\u001b[K\n",
            "remote: Total 396 (delta 61), reused 52 (delta 43), pack-reused 314\u001b[K\n",
            "Receiving objects: 100% (396/396), 2.26 MiB | 10.58 MiB/s, done.\n",
            "Resolving deltas: 100% (126/126), done.\n"
          ]
        }
      ],
      "source": [
        "!git clone https://github.com/rajesh-iitj/Masked_Face_Recognition.git"
      ]
    },
    {
      "cell_type": "code",
      "execution_count": 6,
      "metadata": {
        "colab": {
          "base_uri": "https://localhost:8080/"
        },
        "id": "FaxRGQhB2aRw",
        "outputId": "66e126f2-4884-4c51-bf2f-2554d5e1e13e"
      },
      "outputs": [
        {
          "output_type": "stream",
          "name": "stdout",
          "text": [
            "/content/drive/MyDrive/AML/Masked_Face_Recognition\n"
          ]
        }
      ],
      "source": [
        "cd /content/drive/MyDrive/AML/Masked_Face_Recognition"
      ]
    },
    {
      "cell_type": "code",
      "source": [
        "%load_ext autoreload\n",
        "%autoreload 2"
      ],
      "metadata": {
        "colab": {
          "base_uri": "https://localhost:8080/"
        },
        "id": "wsVAb9NZop7G",
        "outputId": "df584b92-6753-4752-b5f0-ad3326ebd6da"
      },
      "execution_count": 10,
      "outputs": [
        {
          "output_type": "stream",
          "name": "stdout",
          "text": [
            "The autoreload extension is already loaded. To reload it, use:\n",
            "  %reload_ext autoreload\n"
          ]
        }
      ]
    },
    {
      "cell_type": "code",
      "source": [
        " %reload_ext autoreload"
      ],
      "metadata": {
        "id": "vGKeMTiY85nw"
      },
      "execution_count": 18,
      "outputs": []
    },
    {
      "cell_type": "markdown",
      "source": [],
      "metadata": {
        "id": "yl4GuCUGe72C"
      }
    },
    {
      "cell_type": "code",
      "execution_count": null,
      "metadata": {
        "id": "YGi3HkzR3Ls2"
      },
      "outputs": [],
      "source": [
        "!python train_check.py"
      ]
    },
    {
      "cell_type": "code",
      "execution_count": null,
      "metadata": {
        "id": "IcAi8CUo3Qei"
      },
      "outputs": [],
      "source": [
        "!pip install facenet-pytorch\n",
        "!pip install efficientnet_pytorch\n",
        "!pip install timm"
      ]
    },
    {
      "cell_type": "code",
      "execution_count": 19,
      "metadata": {
        "id": "ue4h6Nxi3vKr",
        "colab": {
          "base_uri": "https://localhost:8080/"
        },
        "outputId": "a1e850f3-b5b9-4761-d2f9-8473b696b3d8"
      },
      "outputs": [
        {
          "output_type": "stream",
          "name": "stdout",
          "text": [
            "cuda:0\n",
            "total steps: 19235\n",
            "epoch 1\n",
            "  1% 49/3847 [00:22<22:05,  2.87it/s]Epoch [1/5], Step [50/19235], Train Loss: 29.2528 (29.2528), lr: 0.1000\n",
            "Best trian loss: 29.252819595336913\n",
            "  3% 99/3847 [00:41<22:23,  2.79it/s]Epoch [1/5], Step [100/19235], Train Loss: 29.0371 (29.1450), lr: 0.1000\n",
            "Best trian loss: 29.037106819152832\n",
            "  4% 149/3847 [01:01<25:33,  2.41it/s]Epoch [1/5], Step [150/19235], Train Loss: 28.9160 (29.0686), lr: 0.1000\n",
            "Best trian loss: 28.915977973937988\n",
            "  5% 199/3847 [01:20<24:22,  2.49it/s]Epoch [1/5], Step [200/19235], Train Loss: 28.7723 (28.9945), lr: 0.1000\n",
            "Best trian loss: 28.772279205322267\n",
            "  6% 249/3847 [01:41<24:57,  2.40it/s]Epoch [1/5], Step [250/19235], Train Loss: 28.5027 (28.8962), lr: 0.1000\n",
            "Best trian loss: 28.502677879333497\n",
            "  8% 299/3847 [02:00<21:07,  2.80it/s]Epoch [1/5], Step [300/19235], Train Loss: 28.4610 (28.8237), lr: 0.1000\n",
            "Best trian loss: 28.461043815612793\n",
            "  9% 349/3847 [02:20<21:42,  2.69it/s]Epoch [1/5], Step [350/19235], Train Loss: 28.2667 (28.7441), lr: 0.1000\n",
            "Best trian loss: 28.26670986175537\n",
            " 10% 399/3847 [02:39<24:50,  2.31it/s]Epoch [1/5], Step [400/19235], Train Loss: 28.0892 (28.6622), lr: 0.1000\n",
            "Best trian loss: 28.089199562072753\n",
            " 12% 449/3847 [02:58<22:02,  2.57it/s]Epoch [1/5], Step [450/19235], Train Loss: 27.9517 (28.5833), lr: 0.1000\n",
            "Best trian loss: 27.951701126098634\n",
            " 13% 499/3847 [03:18<21:13,  2.63it/s]Epoch [1/5], Step [500/19235], Train Loss: 27.8562 (28.5106), lr: 0.1000\n",
            "Best trian loss: 27.856155700683594\n",
            " 14% 549/3847 [03:37<19:51,  2.77it/s]Epoch [1/5], Step [550/19235], Train Loss: 27.6858 (28.4356), lr: 0.1000\n",
            "Best trian loss: 27.685843696594237\n",
            " 16% 599/3847 [03:57<19:59,  2.71it/s]Epoch [1/5], Step [600/19235], Train Loss: 27.5180 (28.3591), lr: 0.1000\n",
            "Best trian loss: 27.517987518310548\n",
            " 17% 649/3847 [04:16<22:05,  2.41it/s]Epoch [1/5], Step [650/19235], Train Loss: 27.4605 (28.2900), lr: 0.1000\n",
            "Best trian loss: 27.460547256469727\n",
            " 18% 699/3847 [04:35<21:10,  2.48it/s]Epoch [1/5], Step [700/19235], Train Loss: 27.3502 (28.2229), lr: 0.1000\n",
            "Best trian loss: 27.350235137939453\n",
            " 19% 749/3847 [04:55<22:03,  2.34it/s]Epoch [1/5], Step [750/19235], Train Loss: 27.2372 (28.1572), lr: 0.1000\n",
            "Best trian loss: 27.237241172790526\n",
            " 21% 799/3847 [05:15<18:16,  2.78it/s]Epoch [1/5], Step [800/19235], Train Loss: 27.1312 (28.0930), lr: 0.1000\n",
            "Best trian loss: 27.13116638183594\n",
            " 22% 849/3847 [05:35<18:15,  2.74it/s]Epoch [1/5], Step [850/19235], Train Loss: 27.0276 (28.0304), lr: 0.1000\n",
            "Best trian loss: 27.02760284423828\n",
            " 23% 899/3847 [05:54<19:50,  2.48it/s]Epoch [1/5], Step [900/19235], Train Loss: 26.9261 (27.9690), lr: 0.1000\n",
            "Best trian loss: 26.926105079650878\n",
            " 25% 949/3847 [06:13<19:19,  2.50it/s]Epoch [1/5], Step [950/19235], Train Loss: 26.9147 (27.9135), lr: 0.1000\n",
            "Best trian loss: 26.914730072021484\n",
            " 26% 999/3847 [06:32<18:18,  2.59it/s]Epoch [1/5], Step [1000/19235], Train Loss: 26.7992 (27.8578), lr: 0.1000\n",
            "Best trian loss: 26.79915901184082\n",
            " 27% 1049/3847 [06:51<16:47,  2.78it/s]Epoch [1/5], Step [1050/19235], Train Loss: 26.7074 (27.8030), lr: 0.1000\n",
            "Best trian loss: 26.70744037628174\n",
            " 29% 1099/3847 [07:11<16:32,  2.77it/s]Epoch [1/5], Step [1100/19235], Train Loss: 26.5947 (27.7481), lr: 0.1000\n",
            "Best trian loss: 26.594714698791503\n",
            " 30% 1149/3847 [07:30<17:46,  2.53it/s]Epoch [1/5], Step [1150/19235], Train Loss: 26.6090 (27.6986), lr: 0.1000\n",
            " 31% 1199/3847 [07:49<17:36,  2.51it/s]Epoch [1/5], Step [1200/19235], Train Loss: 26.4675 (27.6473), lr: 0.1000\n",
            "Best trian loss: 26.467509231567384\n",
            " 32% 1249/3847 [08:10<18:50,  2.30it/s]Epoch [1/5], Step [1250/19235], Train Loss: 26.4854 (27.6008), lr: 0.1000\n",
            " 34% 1299/3847 [08:29<15:16,  2.78it/s]Epoch [1/5], Step [1300/19235], Train Loss: 26.3997 (27.5546), lr: 0.1000\n",
            "Best trian loss: 26.399669189453125\n",
            " 35% 1349/3847 [08:49<15:10,  2.74it/s]Epoch [1/5], Step [1350/19235], Train Loss: 26.2956 (27.5080), lr: 0.1000\n",
            "Best trian loss: 26.29564769744873\n",
            " 36% 1399/3847 [09:08<17:06,  2.38it/s]Epoch [1/5], Step [1400/19235], Train Loss: 26.2877 (27.4644), lr: 0.1000\n",
            "Best trian loss: 26.287680320739746\n",
            " 38% 1449/3847 [09:27<15:56,  2.51it/s]Epoch [1/5], Step [1450/19235], Train Loss: 26.2749 (27.4234), lr: 0.1000\n",
            "Best trian loss: 26.274945373535157\n",
            " 39% 1499/3847 [09:46<14:43,  2.66it/s]Epoch [1/5], Step [1500/19235], Train Loss: 26.0942 (27.3791), lr: 0.1000\n",
            "Best trian loss: 26.094180603027343\n",
            " 40% 1549/3847 [10:05<13:44,  2.79it/s]Epoch [1/5], Step [1550/19235], Train Loss: 25.9731 (27.3337), lr: 0.1000\n",
            "Best trian loss: 25.97313045501709\n",
            " 42% 1599/3847 [10:24<13:31,  2.77it/s]Epoch [1/5], Step [1600/19235], Train Loss: 26.0254 (27.2928), lr: 0.1000\n",
            " 43% 1649/3847 [10:43<13:31,  2.71it/s]Epoch [1/5], Step [1650/19235], Train Loss: 25.8382 (27.2488), lr: 0.1000\n",
            "Best trian loss: 25.838203048706056\n",
            " 44% 1699/3847 [11:02<14:09,  2.53it/s]Epoch [1/5], Step [1700/19235], Train Loss: 25.8609 (27.2079), lr: 0.1000\n",
            " 45% 1749/3847 [11:21<14:44,  2.37it/s]Epoch [1/5], Step [1750/19235], Train Loss: 25.7381 (27.1659), lr: 0.1000\n",
            "Best trian loss: 25.738065986633302\n",
            " 47% 1799/3847 [11:41<12:25,  2.75it/s]Epoch [1/5], Step [1800/19235], Train Loss: 25.6336 (27.1234), lr: 0.1000\n",
            "Best trian loss: 25.633643493652343\n",
            " 48% 1849/3847 [12:00<11:54,  2.80it/s]Epoch [1/5], Step [1850/19235], Train Loss: 25.5514 (27.0809), lr: 0.1000\n",
            "Best trian loss: 25.551407241821288\n",
            " 49% 1899/3847 [12:20<12:42,  2.55it/s]Epoch [1/5], Step [1900/19235], Train Loss: 25.5244 (27.0399), lr: 0.1000\n",
            "Best trian loss: 25.5243843460083\n",
            " 51% 1949/3847 [12:39<13:08,  2.41it/s]Epoch [1/5], Step [1950/19235], Train Loss: 25.4579 (26.9994), lr: 0.1000\n",
            "Best trian loss: 25.457872161865236\n",
            " 52% 1999/3847 [12:57<12:07,  2.54it/s]Epoch [1/5], Step [2000/19235], Train Loss: 25.3045 (26.9570), lr: 0.1000\n",
            "Best trian loss: 25.30451778411865\n",
            " 53% 2049/3847 [13:16<11:20,  2.64it/s]Epoch [1/5], Step [2050/19235], Train Loss: 25.2099 (26.9144), lr: 0.1000\n",
            "Best trian loss: 25.209890670776367\n",
            " 55% 2099/3847 [13:35<10:26,  2.79it/s]Epoch [1/5], Step [2100/19235], Train Loss: 25.1602 (26.8726), lr: 0.1000\n",
            "Best trian loss: 25.160158424377443\n",
            " 56% 2149/3847 [13:55<10:11,  2.78it/s]Epoch [1/5], Step [2150/19235], Train Loss: 25.0439 (26.8301), lr: 0.1000\n",
            "Best trian loss: 25.043906021118165\n",
            " 57% 2199/3847 [14:14<09:59,  2.75it/s]Epoch [1/5], Step [2200/19235], Train Loss: 25.0561 (26.7898), lr: 0.1000\n",
            " 58% 2249/3847 [14:33<10:27,  2.55it/s]Epoch [1/5], Step [2250/19235], Train Loss: 24.8665 (26.7470), lr: 0.1000\n",
            "Best trian loss: 24.866498374938963\n",
            " 60% 2299/3847 [14:54<10:59,  2.35it/s]Epoch [1/5], Step [2300/19235], Train Loss: 24.7422 (26.7035), lr: 0.1000\n",
            "Best trian loss: 24.742243003845214\n",
            " 61% 2349/3847 [15:13<09:43,  2.57it/s]Epoch [1/5], Step [2350/19235], Train Loss: 24.7285 (26.6614), lr: 0.1000\n",
            "Best trian loss: 24.728502769470214\n",
            " 62% 2399/3847 [15:32<08:41,  2.78it/s]Epoch [1/5], Step [2400/19235], Train Loss: 24.5986 (26.6185), lr: 0.1000\n",
            "Best trian loss: 24.598606414794922\n",
            " 64% 2449/3847 [15:51<08:20,  2.79it/s]Epoch [1/5], Step [2450/19235], Train Loss: 24.4785 (26.5748), lr: 0.1000\n",
            "Best trian loss: 24.47848709106445\n",
            " 65% 2499/3847 [16:10<08:02,  2.79it/s]Epoch [1/5], Step [2500/19235], Train Loss: 24.4262 (26.5318), lr: 0.1000\n",
            "Best trian loss: 24.426241989135743\n",
            " 66% 2549/3847 [16:30<08:29,  2.55it/s]Epoch [1/5], Step [2550/19235], Train Loss: 24.3607 (26.4892), lr: 0.1000\n",
            "Best trian loss: 24.360743675231934\n",
            " 68% 2599/3847 [16:49<08:35,  2.42it/s]Epoch [1/5], Step [2600/19235], Train Loss: 24.2387 (26.4460), lr: 0.1000\n",
            "Best trian loss: 24.23870864868164\n",
            " 69% 2649/3847 [17:07<07:48,  2.55it/s]Epoch [1/5], Step [2650/19235], Train Loss: 24.1805 (26.4032), lr: 0.1000\n",
            "Best trian loss: 24.18051052093506\n",
            " 70% 2699/3847 [17:26<07:10,  2.66it/s]Epoch [1/5], Step [2700/19235], Train Loss: 24.1927 (26.3623), lr: 0.1000\n",
            " 71% 2749/3847 [17:45<06:36,  2.77it/s]Epoch [1/5], Step [2750/19235], Train Loss: 24.0294 (26.3199), lr: 0.1000\n",
            "Best trian loss: 24.029427795410157\n",
            " 73% 2799/3847 [18:06<07:05,  2.46it/s]Epoch [1/5], Step [2800/19235], Train Loss: 23.9467 (26.2775), lr: 0.1000\n",
            "Best trian loss: 23.946737365722655\n",
            " 74% 2849/3847 [18:25<06:49,  2.44it/s]Epoch [1/5], Step [2850/19235], Train Loss: 23.9217 (26.2362), lr: 0.1000\n",
            "Best trian loss: 23.9217378616333\n",
            " 75% 2899/3847 [18:44<06:27,  2.45it/s]Epoch [1/5], Step [2900/19235], Train Loss: 23.7377 (26.1931), lr: 0.1000\n",
            "Best trian loss: 23.737653999328614\n",
            " 77% 2949/3847 [19:03<05:41,  2.63it/s]Epoch [1/5], Step [2950/19235], Train Loss: 23.6503 (26.1500), lr: 0.1000\n",
            "Best trian loss: 23.65032356262207\n",
            " 78% 2999/3847 [19:22<05:11,  2.72it/s]Epoch [1/5], Step [3000/19235], Train Loss: 23.6890 (26.1090), lr: 0.1000\n",
            " 79% 3049/3847 [19:41<04:45,  2.80it/s]Epoch [1/5], Step [3050/19235], Train Loss: 23.4847 (26.0660), lr: 0.1000\n",
            "Best trian loss: 23.484676971435547\n",
            " 81% 3099/3847 [20:01<04:30,  2.77it/s]Epoch [1/5], Step [3100/19235], Train Loss: 23.4584 (26.0239), lr: 0.1000\n",
            "Best trian loss: 23.458377113342284\n",
            " 82% 3149/3847 [20:20<04:18,  2.70it/s]Epoch [1/5], Step [3150/19235], Train Loss: 23.3573 (25.9816), lr: 0.1000\n",
            "Best trian loss: 23.357318992614747\n",
            " 83% 3199/3847 [20:39<04:26,  2.44it/s]Epoch [1/5], Step [3200/19235], Train Loss: 23.2585 (25.9390), lr: 0.1000\n",
            "Best trian loss: 23.25853340148926\n",
            " 84% 3249/3847 [20:58<04:03,  2.45it/s]Epoch [1/5], Step [3250/19235], Train Loss: 23.1639 (25.8963), lr: 0.1000\n",
            "Best trian loss: 23.163873023986817\n",
            " 86% 3299/3847 [21:18<03:53,  2.34it/s]Epoch [1/5], Step [3300/19235], Train Loss: 23.1657 (25.8550), lr: 0.1000\n",
            " 87% 3349/3847 [21:38<02:59,  2.77it/s]Epoch [1/5], Step [3350/19235], Train Loss: 23.0490 (25.8131), lr: 0.1000\n",
            "Best trian loss: 23.048974533081054\n",
            " 88% 3399/3847 [21:57<02:47,  2.67it/s]Epoch [1/5], Step [3400/19235], Train Loss: 23.0512 (25.7725), lr: 0.1000\n",
            " 90% 3449/3847 [22:16<02:45,  2.40it/s]Epoch [1/5], Step [3450/19235], Train Loss: 22.9918 (25.7322), lr: 0.1000\n",
            "Best trian loss: 22.99180335998535\n",
            " 91% 3499/3847 [22:35<02:23,  2.43it/s]Epoch [1/5], Step [3500/19235], Train Loss: 22.5885 (25.6872), lr: 0.1000\n",
            "Best trian loss: 22.58850673675537\n",
            " 92% 3549/3847 [22:54<01:57,  2.53it/s]Epoch [1/5], Step [3550/19235], Train Loss: 22.7370 (25.6457), lr: 0.1000\n",
            " 94% 3599/3847 [23:13<01:28,  2.80it/s]Epoch [1/5], Step [3600/19235], Train Loss: 22.5818 (25.6031), lr: 0.1000\n",
            "Best trian loss: 22.581801109313965\n",
            " 95% 3649/3847 [23:32<01:11,  2.78it/s]Epoch [1/5], Step [3650/19235], Train Loss: 22.5487 (25.5613), lr: 0.1000\n",
            "Best trian loss: 22.548705978393556\n",
            " 96% 3699/3847 [23:52<00:53,  2.76it/s]Epoch [1/5], Step [3700/19235], Train Loss: 22.6056 (25.5214), lr: 0.1000\n",
            " 97% 3749/3847 [24:11<00:41,  2.38it/s]Epoch [1/5], Step [3750/19235], Train Loss: 22.4064 (25.4798), lr: 0.1000\n",
            "Best trian loss: 22.40642375946045\n",
            " 99% 3799/3847 [24:30<00:20,  2.36it/s]Epoch [1/5], Step [3800/19235], Train Loss: 22.2801 (25.4377), lr: 0.1000\n",
            "Best trian loss: 22.280053215026854\n",
            "100% 3847/3847 [24:50<00:00,  2.58it/s]\n",
            "Model saved to ==> ./models/arcface.pth\n",
            "epoch 2\n",
            "  0% 2/3847 [00:01<53:57,  1.19it/s]  Epoch [2/5], Step [3850/19235], Train Loss: 22.3690 (25.3980), lr: 0.1000\n",
            "  1% 52/3847 [00:21<25:01,  2.53it/s]Epoch [2/5], Step [3900/19235], Train Loss: 21.9457 (25.3537), lr: 0.1000\n",
            "Best trian loss: 21.945706214904785\n",
            "  3% 102/3847 [00:40<22:41,  2.75it/s]Epoch [2/5], Step [3950/19235], Train Loss: 21.9154 (25.3102), lr: 0.1000\n",
            "Best trian loss: 21.915386505126953\n",
            "  4% 152/3847 [00:59<22:01,  2.80it/s]Epoch [2/5], Step [4000/19235], Train Loss: 21.8005 (25.2663), lr: 0.1000\n",
            "Best trian loss: 21.80053279876709\n",
            "  5% 202/3847 [01:19<21:48,  2.78it/s]Epoch [2/5], Step [4050/19235], Train Loss: 21.7923 (25.2234), lr: 0.1000\n",
            "Best trian loss: 21.792312355041503\n",
            "  7% 252/3847 [01:38<23:46,  2.52it/s]Epoch [2/5], Step [4100/19235], Train Loss: 21.8092 (25.1818), lr: 0.1000\n",
            "  8% 302/3847 [01:57<24:33,  2.41it/s]Epoch [2/5], Step [4150/19235], Train Loss: 21.6942 (25.1398), lr: 0.1000\n",
            "Best trian loss: 21.69421993255615\n",
            "  9% 352/3847 [02:16<22:53,  2.54it/s]Epoch [2/5], Step [4200/19235], Train Loss: 21.5798 (25.0974), lr: 0.1000\n",
            "Best trian loss: 21.579766273498535\n",
            " 10% 402/3847 [02:35<22:02,  2.61it/s]Epoch [2/5], Step [4250/19235], Train Loss: 21.6435 (25.0568), lr: 0.1000\n",
            " 12% 452/3847 [02:54<20:19,  2.78it/s]Epoch [2/5], Step [4300/19235], Train Loss: 21.4754 (25.0151), lr: 0.1000\n",
            "Best trian loss: 21.475399589538576\n",
            " 13% 502/3847 [03:15<23:22,  2.38it/s]Epoch [2/5], Step [4350/19235], Train Loss: 21.6028 (24.9759), lr: 0.1000\n",
            " 14% 552/3847 [03:35<23:10,  2.37it/s]Epoch [2/5], Step [4400/19235], Train Loss: 21.6025 (24.9376), lr: 0.1000\n",
            " 16% 602/3847 [03:54<21:26,  2.52it/s]Epoch [2/5], Step [4450/19235], Train Loss: 21.3625 (24.8974), lr: 0.1000\n",
            "Best trian loss: 21.362473983764648\n",
            " 17% 652/3847 [04:13<21:31,  2.47it/s]Epoch [2/5], Step [4500/19235], Train Loss: 21.3641 (24.8581), lr: 0.1000\n",
            " 18% 702/3847 [04:32<18:52,  2.78it/s]Epoch [2/5], Step [4550/19235], Train Loss: 21.3420 (24.8195), lr: 0.1000\n",
            "Best trian loss: 21.342020835876465\n",
            " 20% 752/3847 [04:52<18:36,  2.77it/s]Epoch [2/5], Step [4600/19235], Train Loss: 21.2538 (24.7807), lr: 0.1000\n",
            "Best trian loss: 21.2537837600708\n",
            " 21% 802/3847 [05:11<18:29,  2.74it/s]Epoch [2/5], Step [4650/19235], Train Loss: 21.2507 (24.7428), lr: 0.1000\n",
            "Best trian loss: 21.250683860778807\n",
            " 22% 852/3847 [05:30<21:12,  2.35it/s]Epoch [2/5], Step [4700/19235], Train Loss: 21.2435 (24.7055), lr: 0.1000\n",
            "Best trian loss: 21.243501663208008\n",
            " 23% 902/3847 [05:49<20:25,  2.40it/s]Epoch [2/5], Step [4750/19235], Train Loss: 21.2893 (24.6696), lr: 0.1000\n",
            " 25% 952/3847 [06:08<19:17,  2.50it/s]Epoch [2/5], Step [4800/19235], Train Loss: 21.0722 (24.6321), lr: 0.1000\n",
            "Best trian loss: 21.072207527160643\n",
            " 26% 1002/3847 [06:28<19:58,  2.37it/s]Epoch [2/5], Step [4850/19235], Train Loss: 20.9827 (24.5945), lr: 0.1000\n",
            "Best trian loss: 20.982662811279297\n",
            " 27% 1052/3847 [06:49<16:48,  2.77it/s]Epoch [2/5], Step [4900/19235], Train Loss: 21.0111 (24.5579), lr: 0.1000\n",
            " 29% 1102/3847 [07:08<16:52,  2.71it/s]Epoch [2/5], Step [4950/19235], Train Loss: 21.0428 (24.5224), lr: 0.1000\n",
            " 30% 1152/3847 [07:28<18:55,  2.37it/s]Epoch [2/5], Step [5000/19235], Train Loss: 20.9074 (24.4863), lr: 0.1000\n",
            "Best trian loss: 20.907405738830565\n",
            " 31% 1202/3847 [07:47<18:14,  2.42it/s]Epoch [2/5], Step [5050/19235], Train Loss: 20.7248 (24.4490), lr: 0.1000\n",
            "Best trian loss: 20.724816093444826\n",
            " 33% 1252/3847 [08:06<17:27,  2.48it/s]Epoch [2/5], Step [5100/19235], Train Loss: 20.8242 (24.4135), lr: 0.1000\n",
            " 34% 1302/3847 [08:25<16:31,  2.57it/s]Epoch [2/5], Step [5150/19235], Train Loss: 20.7128 (24.3775), lr: 0.1000\n",
            "Best trian loss: 20.712776832580566\n",
            " 35% 1352/3847 [08:44<14:54,  2.79it/s]Epoch [2/5], Step [5200/19235], Train Loss: 20.6084 (24.3413), lr: 0.1000\n",
            "Best trian loss: 20.608403778076173\n",
            " 36% 1402/3847 [09:04<14:51,  2.74it/s]Epoch [2/5], Step [5250/19235], Train Loss: 20.6309 (24.3060), lr: 0.1000\n",
            " 38% 1452/3847 [09:23<14:30,  2.75it/s]Epoch [2/5], Step [5300/19235], Train Loss: 20.9328 (24.2741), lr: 0.1000\n",
            " 39% 1502/3847 [09:43<16:15,  2.40it/s]Epoch [2/5], Step [5350/19235], Train Loss: 20.6524 (24.2403), lr: 0.1000\n",
            " 40% 1552/3847 [10:03<15:13,  2.51it/s]Epoch [2/5], Step [5400/19235], Train Loss: 20.5777 (24.2064), lr: 0.1000\n",
            "Best trian loss: 20.57771884918213\n",
            " 42% 1602/3847 [10:22<14:51,  2.52it/s]Epoch [2/5], Step [5450/19235], Train Loss: 20.7442 (24.1746), lr: 0.1000\n",
            " 43% 1652/3847 [10:41<14:12,  2.57it/s]Epoch [2/5], Step [5500/19235], Train Loss: 20.4647 (24.1409), lr: 0.1000\n",
            "Best trian loss: 20.464734420776367\n",
            " 44% 1702/3847 [11:01<12:52,  2.78it/s]Epoch [2/5], Step [5550/19235], Train Loss: 20.5689 (24.1087), lr: 0.1000\n",
            " 46% 1752/3847 [11:20<12:39,  2.76it/s]Epoch [2/5], Step [5600/19235], Train Loss: 20.3289 (24.0750), lr: 0.1000\n",
            "Best trian loss: 20.32886287689209\n",
            " 47% 1802/3847 [11:40<12:35,  2.71it/s]Epoch [2/5], Step [5650/19235], Train Loss: 20.2961 (24.0415), lr: 0.1000\n",
            "Best trian loss: 20.296074295043944\n",
            " 48% 1852/3847 [11:59<13:23,  2.48it/s]Epoch [2/5], Step [5700/19235], Train Loss: 20.3877 (24.0095), lr: 0.1000\n",
            " 49% 1902/3847 [12:18<13:51,  2.34it/s]Epoch [2/5], Step [5750/19235], Train Loss: 20.3825 (23.9779), lr: 0.1000\n",
            " 51% 1952/3847 [12:37<12:57,  2.44it/s]Epoch [2/5], Step [5800/19235], Train Loss: 20.2558 (23.9458), lr: 0.1000\n",
            "Best trian loss: 20.255844039916994\n",
            " 52% 2002/3847 [12:56<11:21,  2.71it/s]Epoch [2/5], Step [5850/19235], Train Loss: 20.2166 (23.9140), lr: 0.1000\n",
            "Best trian loss: 20.216566314697264\n",
            " 53% 2052/3847 [13:17<12:32,  2.38it/s]Epoch [2/5], Step [5900/19235], Train Loss: 20.1753 (23.8823), lr: 0.1000\n",
            "Best trian loss: 20.175293502807616\n",
            " 55% 2102/3847 [13:37<10:40,  2.73it/s]Epoch [2/5], Step [5950/19235], Train Loss: 20.1478 (23.8509), lr: 0.1000\n",
            "Best trian loss: 20.147847137451173\n",
            " 56% 2152/3847 [13:56<11:09,  2.53it/s]Epoch [2/5], Step [6000/19235], Train Loss: 20.1415 (23.8200), lr: 0.1000\n",
            "Best trian loss: 20.14146354675293\n",
            " 57% 2202/3847 [14:16<11:35,  2.37it/s]Epoch [2/5], Step [6050/19235], Train Loss: 20.0289 (23.7886), lr: 0.1000\n",
            "Best trian loss: 20.028867340087892\n",
            " 59% 2252/3847 [14:35<10:49,  2.45it/s]Epoch [2/5], Step [6100/19235], Train Loss: 20.0734 (23.7582), lr: 0.1000\n",
            " 60% 2302/3847 [14:54<09:55,  2.59it/s]Epoch [2/5], Step [6150/19235], Train Loss: 20.0110 (23.7277), lr: 0.1000\n",
            "Best trian loss: 20.0109610748291\n",
            " 61% 2352/3847 [15:13<09:07,  2.73it/s]Epoch [2/5], Step [6200/19235], Train Loss: 20.0058 (23.6977), lr: 0.1000\n",
            "Best trian loss: 20.005809478759765\n",
            " 62% 2402/3847 [15:33<08:44,  2.76it/s]Epoch [2/5], Step [6250/19235], Train Loss: 20.0335 (23.6684), lr: 0.1000\n",
            " 64% 2452/3847 [15:52<08:22,  2.78it/s]Epoch [2/5], Step [6300/19235], Train Loss: 19.9588 (23.6390), lr: 0.1000\n",
            "Best trian loss: 19.95877281188965\n",
            " 65% 2502/3847 [16:12<08:13,  2.73it/s]Epoch [2/5], Step [6350/19235], Train Loss: 19.8244 (23.6089), lr: 0.1000\n",
            "Best trian loss: 19.82440353393555\n",
            " 66% 2552/3847 [16:31<09:04,  2.38it/s]Epoch [2/5], Step [6400/19235], Train Loss: 19.9521 (23.5803), lr: 0.1000\n",
            " 68% 2602/3847 [16:52<08:42,  2.38it/s]Epoch [2/5], Step [6450/19235], Train Loss: 19.9030 (23.5518), lr: 0.1000\n",
            " 69% 2652/3847 [17:11<07:50,  2.54it/s]Epoch [2/5], Step [6500/19235], Train Loss: 19.9484 (23.5241), lr: 0.1000\n",
            " 70% 2702/3847 [17:30<07:15,  2.63it/s]Epoch [2/5], Step [6550/19235], Train Loss: 19.7282 (23.4951), lr: 0.1000\n",
            "Best trian loss: 19.728157234191894\n",
            " 72% 2752/3847 [17:49<06:34,  2.78it/s]Epoch [2/5], Step [6600/19235], Train Loss: 19.7748 (23.4670), lr: 0.1000\n",
            " 73% 2802/3847 [18:09<06:17,  2.77it/s]Epoch [2/5], Step [6650/19235], Train Loss: 19.7475 (23.4390), lr: 0.1000\n",
            " 74% 2852/3847 [18:28<06:19,  2.62it/s]Epoch [2/5], Step [6700/19235], Train Loss: 19.6549 (23.4108), lr: 0.1000\n",
            "Best trian loss: 19.65493438720703\n",
            " 75% 2902/3847 [18:48<06:40,  2.36it/s]Epoch [2/5], Step [6750/19235], Train Loss: 19.7323 (23.3835), lr: 0.1000\n",
            " 77% 2952/3847 [19:07<06:08,  2.43it/s]Epoch [2/5], Step [6800/19235], Train Loss: 19.6933 (23.3564), lr: 0.1000\n",
            " 78% 3002/3847 [19:26<05:26,  2.59it/s]Epoch [2/5], Step [6850/19235], Train Loss: 19.5428 (23.3285), lr: 0.1000\n",
            "Best trian loss: 19.542830543518065\n",
            " 79% 3052/3847 [19:45<04:46,  2.78it/s]Epoch [2/5], Step [6900/19235], Train Loss: 19.6332 (23.3018), lr: 0.1000\n",
            " 81% 3102/3847 [20:05<05:05,  2.44it/s]Epoch [2/5], Step [6950/19235], Train Loss: 19.5378 (23.2747), lr: 0.1000\n",
            "Best trian loss: 19.537788429260253\n",
            " 82% 3152/3847 [20:26<04:52,  2.37it/s]Epoch [2/5], Step [7000/19235], Train Loss: 19.6959 (23.2491), lr: 0.1000\n",
            " 83% 3202/3847 [20:45<04:32,  2.37it/s]Epoch [2/5], Step [7050/19235], Train Loss: 19.4518 (23.2222), lr: 0.1000\n",
            "Best trian loss: 19.451847267150878\n",
            " 85% 3252/3847 [21:04<03:56,  2.52it/s]Epoch [2/5], Step [7100/19235], Train Loss: 19.5085 (23.1960), lr: 0.1000\n",
            " 86% 3302/3847 [21:23<03:40,  2.48it/s]Epoch [2/5], Step [7150/19235], Train Loss: 19.4780 (23.1700), lr: 0.1000\n",
            " 87% 3352/3847 [21:42<02:57,  2.79it/s]Epoch [2/5], Step [7200/19235], Train Loss: 19.4661 (23.1443), lr: 0.1000\n",
            " 88% 3402/3847 [22:02<02:39,  2.79it/s]Epoch [2/5], Step [7250/19235], Train Loss: 19.4502 (23.1188), lr: 0.1000\n",
            "Best trian loss: 19.45016712188721\n",
            " 90% 3452/3847 [22:21<02:24,  2.74it/s]Epoch [2/5], Step [7300/19235], Train Loss: 19.4757 (23.0939), lr: 0.1000\n",
            " 91% 3502/3847 [22:41<02:28,  2.32it/s]Epoch [2/5], Step [7350/19235], Train Loss: 19.4025 (23.0688), lr: 0.1000\n",
            "Best trian loss: 19.40245651245117\n",
            " 92% 3552/3847 [23:00<02:05,  2.34it/s]Epoch [2/5], Step [7400/19235], Train Loss: 19.4185 (23.0441), lr: 0.1000\n",
            " 94% 3602/3847 [23:19<01:38,  2.49it/s]Epoch [2/5], Step [7450/19235], Train Loss: 19.3676 (23.0194), lr: 0.1000\n",
            "Best trian loss: 19.36762046813965\n",
            " 95% 3652/3847 [23:39<01:23,  2.33it/s]Epoch [2/5], Step [7500/19235], Train Loss: 19.3827 (22.9952), lr: 0.1000\n",
            " 96% 3702/3847 [24:00<00:52,  2.75it/s]Epoch [2/5], Step [7550/19235], Train Loss: 19.3640 (22.9711), lr: 0.1000\n",
            "Best trian loss: 19.364030418395995\n",
            " 98% 3752/3847 [24:19<00:40,  2.32it/s]Epoch [2/5], Step [7600/19235], Train Loss: 19.4167 (22.9477), lr: 0.1000\n",
            " 99% 3802/3847 [24:38<00:19,  2.35it/s]Epoch [2/5], Step [7650/19235], Train Loss: 19.2059 (22.9233), lr: 0.1000\n",
            "Best trian loss: 19.20585243225098\n",
            "100% 3847/3847 [24:55<00:00,  2.57it/s]\n",
            "Model saved to ==> ./models/arcface.pth\n",
            "epoch 3\n",
            "  0% 5/3847 [00:03<34:45,  1.84it/s]Epoch [3/5], Step [7700/19235], Train Loss: 19.2559 (22.8995), lr: 0.1000\n",
            "  1% 55/3847 [00:22<25:09,  2.51it/s]Epoch [3/5], Step [7750/19235], Train Loss: 18.7652 (22.8729), lr: 0.1000\n",
            "Best trian loss: 18.765207405090333\n",
            "  3% 105/3847 [00:41<23:19,  2.67it/s]Epoch [3/5], Step [7800/19235], Train Loss: 18.8911 (22.8473), lr: 0.1000\n",
            "  4% 155/3847 [01:00<22:07,  2.78it/s]Epoch [3/5], Step [7850/19235], Train Loss: 18.6937 (22.8209), lr: 0.1000\n",
            "Best trian loss: 18.69367904663086\n",
            "  5% 205/3847 [01:20<21:48,  2.78it/s]Epoch [3/5], Step [7900/19235], Train Loss: 18.8959 (22.7960), lr: 0.1000\n",
            "  7% 255/3847 [01:39<21:54,  2.73it/s]Epoch [3/5], Step [7950/19235], Train Loss: 19.0216 (22.7723), lr: 0.1000\n",
            "  8% 305/3847 [01:58<24:46,  2.38it/s]Epoch [3/5], Step [8000/19235], Train Loss: 18.9092 (22.7482), lr: 0.1000\n",
            "  9% 355/3847 [02:17<24:43,  2.35it/s]Epoch [3/5], Step [8050/19235], Train Loss: 18.9448 (22.7245), lr: 0.1000\n",
            " 11% 405/3847 [02:38<22:16,  2.58it/s]Epoch [3/5], Step [8100/19235], Train Loss: 18.9864 (22.7015), lr: 0.1000\n",
            " 12% 455/3847 [02:57<20:18,  2.78it/s]Epoch [3/5], Step [8150/19235], Train Loss: 19.0498 (22.6791), lr: 0.1000\n",
            " 13% 505/3847 [03:16<20:02,  2.78it/s]Epoch [3/5], Step [8200/19235], Train Loss: 18.9678 (22.6564), lr: 0.1000\n",
            " 14% 555/3847 [03:36<19:53,  2.76it/s]Epoch [3/5], Step [8250/19235], Train Loss: 18.9838 (22.6342), lr: 0.1000\n",
            " 16% 605/3847 [03:55<22:47,  2.37it/s]Epoch [3/5], Step [8300/19235], Train Loss: 18.8241 (22.6112), lr: 0.1000\n",
            " 17% 655/3847 [04:14<21:51,  2.43it/s]Epoch [3/5], Step [8350/19235], Train Loss: 19.0325 (22.5898), lr: 0.1000\n",
            " 18% 705/3847 [04:33<20:51,  2.51it/s]Epoch [3/5], Step [8400/19235], Train Loss: 18.8872 (22.5677), lr: 0.1000\n",
            " 20% 755/3847 [04:52<18:48,  2.74it/s]Epoch [3/5], Step [8450/19235], Train Loss: 18.8099 (22.5455), lr: 0.1000\n",
            " 21% 805/3847 [05:11<18:12,  2.78it/s]Epoch [3/5], Step [8500/19235], Train Loss: 18.9705 (22.5245), lr: 0.1000\n",
            " 22% 855/3847 [05:31<18:11,  2.74it/s]Epoch [3/5], Step [8550/19235], Train Loss: 18.7863 (22.5026), lr: 0.1000\n",
            " 24% 905/3847 [05:50<21:11,  2.31it/s]Epoch [3/5], Step [8600/19235], Train Loss: 18.9346 (22.4819), lr: 0.1000\n",
            " 25% 955/3847 [06:10<18:47,  2.57it/s]Epoch [3/5], Step [8650/19235], Train Loss: 18.9096 (22.4612), lr: 0.1000\n",
            " 26% 1005/3847 [06:29<18:40,  2.54it/s]Epoch [3/5], Step [8700/19235], Train Loss: 18.9570 (22.4411), lr: 0.1000\n",
            " 27% 1055/3847 [06:49<16:42,  2.79it/s]Epoch [3/5], Step [8750/19235], Train Loss: 18.8836 (22.4207), lr: 0.1000\n",
            " 29% 1105/3847 [07:08<16:26,  2.78it/s]Epoch [3/5], Step [8800/19235], Train Loss: 18.9767 (22.4012), lr: 0.1000\n",
            " 30% 1155/3847 [07:27<16:23,  2.74it/s]Epoch [3/5], Step [8850/19235], Train Loss: 18.7906 (22.3808), lr: 0.1000\n",
            " 31% 1205/3847 [07:47<17:24,  2.53it/s]Epoch [3/5], Step [8900/19235], Train Loss: 18.7515 (22.3604), lr: 0.1000\n",
            " 33% 1255/3847 [08:06<17:58,  2.40it/s]Epoch [3/5], Step [8950/19235], Train Loss: 18.8719 (22.3409), lr: 0.1000\n",
            " 34% 1305/3847 [08:25<17:03,  2.48it/s]Epoch [3/5], Step [9000/19235], Train Loss: 18.8511 (22.3215), lr: 0.1000\n",
            " 35% 1355/3847 [08:44<16:38,  2.50it/s]Epoch [3/5], Step [9050/19235], Train Loss: 18.9285 (22.3028), lr: 0.1000\n",
            " 37% 1405/3847 [09:03<14:35,  2.79it/s]Epoch [3/5], Step [9100/19235], Train Loss: 18.8523 (22.2838), lr: 0.1000\n",
            " 38% 1455/3847 [09:22<14:21,  2.78it/s]Epoch [3/5], Step [9150/19235], Train Loss: 18.8350 (22.2650), lr: 0.1000\n",
            " 39% 1505/3847 [09:43<17:00,  2.29it/s]Epoch [3/5], Step [9200/19235], Train Loss: 18.8972 (22.2467), lr: 0.1000\n",
            " 40% 1555/3847 [10:02<15:09,  2.52it/s]Epoch [3/5], Step [9250/19235], Train Loss: 18.7456 (22.2277), lr: 0.1000\n",
            " 42% 1605/3847 [10:21<13:30,  2.77it/s]Epoch [3/5], Step [9300/19235], Train Loss: 18.5947 (22.2082), lr: 0.1000\n",
            "Best trian loss: 18.594742393493654\n",
            " 43% 1655/3847 [10:41<13:07,  2.78it/s]Epoch [3/5], Step [9350/19235], Train Loss: 18.7568 (22.1897), lr: 0.1000\n",
            " 44% 1705/3847 [11:00<12:59,  2.75it/s]Epoch [3/5], Step [9400/19235], Train Loss: 18.7566 (22.1715), lr: 0.1000\n",
            " 46% 1755/3847 [11:19<14:25,  2.42it/s]Epoch [3/5], Step [9450/19235], Train Loss: 18.7652 (22.1535), lr: 0.1000\n",
            " 47% 1805/3847 [11:38<14:05,  2.42it/s]Epoch [3/5], Step [9500/19235], Train Loss: 18.8446 (22.1360), lr: 0.1000\n",
            " 48% 1855/3847 [11:57<13:02,  2.55it/s]Epoch [3/5], Step [9550/19235], Train Loss: 18.8235 (22.1187), lr: 0.1000\n",
            " 50% 1905/3847 [12:16<12:01,  2.69it/s]Epoch [3/5], Step [9600/19235], Train Loss: 18.7649 (22.1012), lr: 0.1000\n",
            " 51% 1955/3847 [12:36<11:21,  2.78it/s]Epoch [3/5], Step [9650/19235], Train Loss: 18.6489 (22.0833), lr: 0.1000\n",
            " 52% 2005/3847 [12:55<11:03,  2.78it/s]Epoch [3/5], Step [9700/19235], Train Loss: 18.7526 (22.0662), lr: 0.1000\n",
            " 53% 2055/3847 [13:15<12:44,  2.35it/s]Epoch [3/5], Step [9750/19235], Train Loss: 18.7384 (22.0491), lr: 0.1000\n",
            " 55% 2105/3847 [13:35<10:46,  2.69it/s]Epoch [3/5], Step [9800/19235], Train Loss: 18.7425 (22.0322), lr: 0.1000\n",
            " 56% 2155/3847 [13:54<10:06,  2.79it/s]Epoch [3/5], Step [9850/19235], Train Loss: 18.7769 (22.0157), lr: 0.1000\n",
            " 57% 2205/3847 [14:13<09:51,  2.78it/s]Epoch [3/5], Step [9900/19235], Train Loss: 18.7316 (21.9991), lr: 0.1000\n",
            " 59% 2255/3847 [14:33<09:35,  2.76it/s]Epoch [3/5], Step [9950/19235], Train Loss: 18.6927 (21.9825), lr: 0.1000\n",
            " 60% 2305/3847 [14:53<10:31,  2.44it/s]Epoch [3/5], Step [10000/19235], Train Loss: 18.5418 (21.9653), lr: 0.1000\n",
            "Best trian loss: 18.541827964782716\n",
            " 61% 2355/3847 [15:12<10:53,  2.28it/s]Epoch [3/5], Step [10050/19235], Train Loss: 18.7157 (21.9491), lr: 0.1000\n",
            " 63% 2405/3847 [15:31<09:24,  2.55it/s]Epoch [3/5], Step [10100/19235], Train Loss: 18.7240 (21.9332), lr: 0.1000\n",
            " 64% 2455/3847 [15:50<09:04,  2.56it/s]Epoch [3/5], Step [10150/19235], Train Loss: 18.6250 (21.9169), lr: 0.1000\n",
            " 65% 2505/3847 [16:09<08:05,  2.77it/s]Epoch [3/5], Step [10200/19235], Train Loss: 18.7026 (21.9011), lr: 0.1000\n",
            " 66% 2555/3847 [16:29<07:44,  2.78it/s]Epoch [3/5], Step [10250/19235], Train Loss: 18.6628 (21.8853), lr: 0.1000\n",
            " 68% 2605/3847 [16:49<08:54,  2.32it/s]Epoch [3/5], Step [10300/19235], Train Loss: 18.5553 (21.8692), lr: 0.1000\n",
            " 69% 2655/3847 [17:09<08:13,  2.41it/s]Epoch [3/5], Step [10350/19235], Train Loss: 18.5601 (21.8532), lr: 0.1000\n",
            " 70% 2705/3847 [17:28<07:27,  2.55it/s]Epoch [3/5], Step [10400/19235], Train Loss: 18.6611 (21.8378), lr: 0.1000\n",
            " 72% 2755/3847 [17:47<07:14,  2.52it/s]Epoch [3/5], Step [10450/19235], Train Loss: 18.6048 (21.8223), lr: 0.1000\n",
            " 73% 2805/3847 [18:07<06:15,  2.78it/s]Epoch [3/5], Step [10500/19235], Train Loss: 18.7086 (21.8075), lr: 0.1000\n",
            " 74% 2855/3847 [18:26<05:58,  2.76it/s]Epoch [3/5], Step [10550/19235], Train Loss: 18.6719 (21.7927), lr: 0.1000\n",
            " 76% 2905/3847 [18:45<05:47,  2.71it/s]Epoch [3/5], Step [10600/19235], Train Loss: 18.6431 (21.7778), lr: 0.1000\n",
            " 77% 2955/3847 [19:05<06:12,  2.39it/s]Epoch [3/5], Step [10650/19235], Train Loss: 18.4665 (21.7623), lr: 0.1000\n",
            "Best trian loss: 18.46653926849365\n",
            " 78% 3005/3847 [19:24<05:56,  2.36it/s]Epoch [3/5], Step [10700/19235], Train Loss: 18.5625 (21.7473), lr: 0.1000\n",
            " 79% 3055/3847 [19:43<05:12,  2.53it/s]Epoch [3/5], Step [10750/19235], Train Loss: 18.4862 (21.7321), lr: 0.1000\n",
            " 81% 3105/3847 [20:02<04:51,  2.55it/s]Epoch [3/5], Step [10800/19235], Train Loss: 18.3713 (21.7166), lr: 0.1000\n",
            "Best trian loss: 18.3713285446167\n",
            " 82% 3155/3847 [20:23<04:56,  2.33it/s]Epoch [3/5], Step [10850/19235], Train Loss: 18.6003 (21.7022), lr: 0.1000\n",
            " 83% 3205/3847 [20:42<03:49,  2.80it/s]Epoch [3/5], Step [10900/19235], Train Loss: 18.4993 (21.6875), lr: 0.1000\n",
            " 85% 3255/3847 [21:02<03:33,  2.77it/s]Epoch [3/5], Step [10950/19235], Train Loss: 18.4462 (21.6727), lr: 0.1000\n",
            " 86% 3305/3847 [21:21<03:24,  2.65it/s]Epoch [3/5], Step [11000/19235], Train Loss: 18.4060 (21.6579), lr: 0.1000\n",
            " 87% 3355/3847 [21:40<03:22,  2.43it/s]Epoch [3/5], Step [11050/19235], Train Loss: 18.5379 (21.6438), lr: 0.1000\n",
            " 89% 3405/3847 [21:59<02:59,  2.46it/s]Epoch [3/5], Step [11100/19235], Train Loss: 18.4013 (21.6291), lr: 0.1000\n",
            " 90% 3455/3847 [22:18<02:29,  2.62it/s]Epoch [3/5], Step [11150/19235], Train Loss: 18.4503 (21.6149), lr: 0.1000\n",
            " 91% 3505/3847 [22:37<02:02,  2.79it/s]Epoch [3/5], Step [11200/19235], Train Loss: 18.3958 (21.6005), lr: 0.1000\n",
            " 92% 3555/3847 [22:56<01:45,  2.76it/s]Epoch [3/5], Step [11250/19235], Train Loss: 18.3624 (21.5861), lr: 0.1000\n",
            "Best trian loss: 18.362427291870116\n",
            " 94% 3605/3847 [23:15<01:27,  2.77it/s]Epoch [3/5], Step [11300/19235], Train Loss: 18.3878 (21.5720), lr: 0.1000\n",
            " 95% 3655/3847 [23:34<01:10,  2.71it/s]Epoch [3/5], Step [11350/19235], Train Loss: 18.3813 (21.5579), lr: 0.1000\n",
            " 96% 3705/3847 [23:54<01:00,  2.36it/s]Epoch [3/5], Step [11400/19235], Train Loss: 18.4872 (21.5445), lr: 0.1000\n",
            " 98% 3755/3847 [24:14<00:33,  2.77it/s]Epoch [3/5], Step [11450/19235], Train Loss: 18.4754 (21.5311), lr: 0.1000\n",
            " 99% 3805/3847 [24:33<00:15,  2.77it/s]Epoch [3/5], Step [11500/19235], Train Loss: 18.4128 (21.5175), lr: 0.1000\n",
            "100% 3847/3847 [24:49<00:00,  2.58it/s]\n",
            "Model saved to ==> ./models/arcface.pth\n",
            "epoch 4\n",
            "  0% 8/3847 [00:03<23:58,  2.67it/s]Epoch [4/5], Step [11550/19235], Train Loss: 18.2657 (21.5035), lr: 0.1000\n",
            "Best trian loss: 18.265731036868523\n",
            "  2% 58/3847 [00:23<23:01,  2.74it/s]Epoch [4/5], Step [11600/19235], Train Loss: 17.8493 (21.4877), lr: 0.1000\n",
            "Best trian loss: 17.84925365447998\n",
            "  3% 108/3847 [00:42<25:17,  2.46it/s]Epoch [4/5], Step [11650/19235], Train Loss: 17.8966 (21.4723), lr: 0.1000\n",
            "  4% 158/3847 [01:01<25:12,  2.44it/s]Epoch [4/5], Step [11700/19235], Train Loss: 18.0566 (21.4577), lr: 0.1000\n",
            "  5% 208/3847 [01:20<23:42,  2.56it/s]Epoch [4/5], Step [11750/19235], Train Loss: 18.0652 (21.4433), lr: 0.1000\n",
            "  7% 258/3847 [01:39<23:15,  2.57it/s]Epoch [4/5], Step [11800/19235], Train Loss: 18.0760 (21.4290), lr: 0.1000\n",
            "  8% 308/3847 [01:58<21:03,  2.80it/s]Epoch [4/5], Step [11850/19235], Train Loss: 17.9914 (21.4145), lr: 0.1000\n",
            "  9% 358/3847 [02:17<20:48,  2.79it/s]Epoch [4/5], Step [11900/19235], Train Loss: 18.0710 (21.4004), lr: 0.1000\n",
            " 11% 408/3847 [02:37<24:35,  2.33it/s]Epoch [4/5], Step [11950/19235], Train Loss: 18.0388 (21.3864), lr: 0.1000\n",
            " 12% 458/3847 [02:57<22:59,  2.46it/s]Epoch [4/5], Step [12000/19235], Train Loss: 18.1261 (21.3728), lr: 0.1000\n",
            " 13% 508/3847 [03:16<21:32,  2.58it/s]Epoch [4/5], Step [12050/19235], Train Loss: 18.0906 (21.3592), lr: 0.1000\n",
            " 15% 558/3847 [03:35<20:59,  2.61it/s]Epoch [4/5], Step [12100/19235], Train Loss: 18.0432 (21.3455), lr: 0.1000\n",
            " 16% 608/3847 [03:54<19:26,  2.78it/s]Epoch [4/5], Step [12150/19235], Train Loss: 18.2186 (21.3326), lr: 0.1000\n",
            " 17% 658/3847 [04:13<19:07,  2.78it/s]Epoch [4/5], Step [12200/19235], Train Loss: 18.0827 (21.3193), lr: 0.1000\n",
            " 18% 708/3847 [04:32<19:25,  2.69it/s]Epoch [4/5], Step [12250/19235], Train Loss: 18.2883 (21.3069), lr: 0.1000\n",
            " 20% 758/3847 [04:52<21:05,  2.44it/s]Epoch [4/5], Step [12300/19235], Train Loss: 18.2739 (21.2946), lr: 0.1000\n",
            " 21% 808/3847 [05:10<20:45,  2.44it/s]Epoch [4/5], Step [12350/19235], Train Loss: 18.2480 (21.2822), lr: 0.1000\n",
            " 22% 858/3847 [05:29<20:26,  2.44it/s]Epoch [4/5], Step [12400/19235], Train Loss: 18.0973 (21.2694), lr: 0.1000\n",
            " 24% 908/3847 [05:48<18:36,  2.63it/s]Epoch [4/5], Step [12450/19235], Train Loss: 18.3395 (21.2576), lr: 0.1000\n",
            " 25% 958/3847 [06:07<17:21,  2.77it/s]Epoch [4/5], Step [12500/19235], Train Loss: 18.2451 (21.2456), lr: 0.1000\n",
            " 26% 1008/3847 [06:29<19:35,  2.41it/s]Epoch [4/5], Step [12550/19235], Train Loss: 18.2827 (21.2338), lr: 0.1000\n",
            " 28% 1058/3847 [06:48<19:10,  2.43it/s]Epoch [4/5], Step [12600/19235], Train Loss: 18.1250 (21.2214), lr: 0.1000\n",
            " 29% 1108/3847 [07:07<18:23,  2.48it/s]Epoch [4/5], Step [12650/19235], Train Loss: 18.1840 (21.2094), lr: 0.1000\n",
            " 30% 1158/3847 [07:26<17:03,  2.63it/s]Epoch [4/5], Step [12700/19235], Train Loss: 18.2225 (21.1977), lr: 0.1000\n",
            " 31% 1208/3847 [07:45<15:47,  2.79it/s]Epoch [4/5], Step [12750/19235], Train Loss: 18.0333 (21.1853), lr: 0.1000\n",
            " 33% 1258/3847 [08:04<15:34,  2.77it/s]Epoch [4/5], Step [12800/19235], Train Loss: 18.2422 (21.1738), lr: 0.1000\n",
            " 34% 1308/3847 [08:24<15:33,  2.72it/s]Epoch [4/5], Step [12850/19235], Train Loss: 18.1031 (21.1618), lr: 0.1000\n",
            " 35% 1358/3847 [08:43<17:18,  2.40it/s]Epoch [4/5], Step [12900/19235], Train Loss: 17.9593 (21.1494), lr: 0.1000\n",
            " 37% 1408/3847 [09:03<17:26,  2.33it/s]Epoch [4/5], Step [12950/19235], Train Loss: 18.1479 (21.1378), lr: 0.1000\n",
            " 38% 1458/3847 [09:22<15:07,  2.63it/s]Epoch [4/5], Step [13000/19235], Train Loss: 18.0991 (21.1261), lr: 0.1000\n",
            " 39% 1508/3847 [09:41<14:05,  2.77it/s]Epoch [4/5], Step [13050/19235], Train Loss: 18.0567 (21.1144), lr: 0.1000\n",
            " 40% 1558/3847 [10:02<15:42,  2.43it/s]Epoch [4/5], Step [13100/19235], Train Loss: 18.1713 (21.1031), lr: 0.1000\n",
            " 42% 1608/3847 [10:23<15:54,  2.35it/s]Epoch [4/5], Step [13150/19235], Train Loss: 18.1421 (21.0919), lr: 0.1000\n",
            " 43% 1658/3847 [10:42<14:25,  2.53it/s]Epoch [4/5], Step [13200/19235], Train Loss: 18.0494 (21.0803), lr: 0.1000\n",
            " 44% 1708/3847 [11:01<14:16,  2.50it/s]Epoch [4/5], Step [13250/19235], Train Loss: 18.1099 (21.0691), lr: 0.1000\n",
            " 46% 1758/3847 [11:20<12:33,  2.77it/s]Epoch [4/5], Step [13300/19235], Train Loss: 18.2544 (21.0586), lr: 0.1000\n",
            " 47% 1808/3847 [11:40<12:10,  2.79it/s]Epoch [4/5], Step [13350/19235], Train Loss: 18.1227 (21.0476), lr: 0.1000\n",
            " 48% 1858/3847 [11:59<12:23,  2.68it/s]Epoch [4/5], Step [13400/19235], Train Loss: 18.0393 (21.0363), lr: 0.1000\n",
            " 50% 1908/3847 [12:18<13:52,  2.33it/s]Epoch [4/5], Step [13450/19235], Train Loss: 18.0543 (21.0252), lr: 0.1000\n",
            " 51% 1958/3847 [12:37<12:57,  2.43it/s]Epoch [4/5], Step [13500/19235], Train Loss: 17.9940 (21.0140), lr: 0.1000\n",
            " 52% 2008/3847 [12:56<12:21,  2.48it/s]Epoch [4/5], Step [13550/19235], Train Loss: 18.0847 (21.0032), lr: 0.1000\n",
            " 53% 2058/3847 [13:16<10:40,  2.79it/s]Epoch [4/5], Step [13600/19235], Train Loss: 18.0498 (20.9924), lr: 0.1000\n",
            " 55% 2108/3847 [13:37<12:47,  2.27it/s]Epoch [4/5], Step [13650/19235], Train Loss: 18.0285 (20.9815), lr: 0.1000\n",
            " 56% 2158/3847 [13:57<11:40,  2.41it/s]Epoch [4/5], Step [13700/19235], Train Loss: 18.2621 (20.9716), lr: 0.1000\n",
            " 57% 2208/3847 [14:16<10:57,  2.49it/s]Epoch [4/5], Step [13750/19235], Train Loss: 18.1086 (20.9612), lr: 0.1000\n",
            " 59% 2258/3847 [14:36<09:37,  2.75it/s]Epoch [4/5], Step [13800/19235], Train Loss: 18.0726 (20.9507), lr: 0.1000\n",
            " 60% 2308/3847 [14:56<09:24,  2.73it/s]Epoch [4/5], Step [13850/19235], Train Loss: 17.9954 (20.9400), lr: 0.1000\n",
            " 61% 2358/3847 [15:16<10:42,  2.32it/s]Epoch [4/5], Step [13900/19235], Train Loss: 17.8561 (20.9289), lr: 0.1000\n",
            " 63% 2408/3847 [15:35<10:40,  2.25it/s]Epoch [4/5], Step [13950/19235], Train Loss: 18.0000 (20.9184), lr: 0.1000\n",
            " 64% 2458/3847 [15:54<09:18,  2.49it/s]Epoch [4/5], Step [14000/19235], Train Loss: 18.0257 (20.9081), lr: 0.1000\n",
            " 65% 2508/3847 [16:14<07:59,  2.79it/s]Epoch [4/5], Step [14050/19235], Train Loss: 18.1604 (20.8983), lr: 0.1000\n",
            " 66% 2558/3847 [16:34<07:52,  2.73it/s]Epoch [4/5], Step [14100/19235], Train Loss: 18.0907 (20.8884), lr: 0.1000\n",
            " 68% 2608/3847 [16:54<08:36,  2.40it/s]Epoch [4/5], Step [14150/19235], Train Loss: 18.1035 (20.8785), lr: 0.1000\n",
            " 69% 2658/3847 [17:15<08:31,  2.33it/s]Epoch [4/5], Step [14200/19235], Train Loss: 18.1107 (20.8688), lr: 0.1000\n",
            " 70% 2708/3847 [17:35<07:39,  2.48it/s]Epoch [4/5], Step [14250/19235], Train Loss: 18.1476 (20.8592), lr: 0.1000\n",
            " 72% 2758/3847 [17:54<06:49,  2.66it/s]Epoch [4/5], Step [14300/19235], Train Loss: 17.8849 (20.8488), lr: 0.1000\n",
            " 73% 2808/3847 [18:13<06:13,  2.78it/s]Epoch [4/5], Step [14350/19235], Train Loss: 17.9731 (20.8388), lr: 0.1000\n",
            " 74% 2858/3847 [18:33<05:55,  2.78it/s]Epoch [4/5], Step [14400/19235], Train Loss: 17.9538 (20.8288), lr: 0.1000\n",
            " 76% 2908/3847 [18:53<05:48,  2.70it/s]Epoch [4/5], Step [14450/19235], Train Loss: 17.9132 (20.8187), lr: 0.1000\n",
            " 77% 2958/3847 [19:12<06:23,  2.32it/s]Epoch [4/5], Step [14500/19235], Train Loss: 18.0389 (20.8091), lr: 0.1000\n",
            " 78% 3008/3847 [19:31<05:46,  2.42it/s]Epoch [4/5], Step [14550/19235], Train Loss: 18.0619 (20.7997), lr: 0.1000\n",
            " 79% 3058/3847 [19:50<05:22,  2.45it/s]Epoch [4/5], Step [14600/19235], Train Loss: 18.0399 (20.7902), lr: 0.1000\n",
            " 81% 3108/3847 [20:09<04:53,  2.52it/s]Epoch [4/5], Step [14650/19235], Train Loss: 17.8935 (20.7803), lr: 0.1000\n",
            " 82% 3158/3847 [20:29<04:07,  2.78it/s]Epoch [4/5], Step [14700/19235], Train Loss: 17.9343 (20.7707), lr: 0.1000\n",
            " 83% 3208/3847 [20:50<04:46,  2.23it/s]Epoch [4/5], Step [14750/19235], Train Loss: 17.9080 (20.7610), lr: 0.1000\n",
            " 85% 3258/3847 [21:09<03:58,  2.47it/s]Epoch [4/5], Step [14800/19235], Train Loss: 17.9654 (20.7515), lr: 0.1000\n",
            " 86% 3308/3847 [21:28<03:34,  2.51it/s]Epoch [4/5], Step [14850/19235], Train Loss: 18.0099 (20.7423), lr: 0.1000\n",
            " 87% 3358/3847 [21:47<03:01,  2.69it/s]Epoch [4/5], Step [14900/19235], Train Loss: 17.8759 (20.7327), lr: 0.1000\n",
            " 89% 3408/3847 [22:07<02:38,  2.77it/s]Epoch [4/5], Step [14950/19235], Train Loss: 17.8667 (20.7231), lr: 0.1000\n",
            " 90% 3458/3847 [22:26<02:20,  2.77it/s]Epoch [4/5], Step [15000/19235], Train Loss: 17.8987 (20.7137), lr: 0.1000\n",
            " 91% 3508/3847 [22:46<02:06,  2.69it/s]Epoch [4/5], Step [15050/19235], Train Loss: 17.8836 (20.7043), lr: 0.1000\n",
            " 92% 3558/3847 [23:05<01:53,  2.55it/s]Epoch [4/5], Step [15100/19235], Train Loss: 17.9275 (20.6951), lr: 0.1000\n",
            " 94% 3608/3847 [23:24<01:41,  2.35it/s]Epoch [4/5], Step [15150/19235], Train Loss: 17.9610 (20.6860), lr: 0.1000\n",
            " 95% 3658/3847 [23:43<01:16,  2.47it/s]Epoch [4/5], Step [15200/19235], Train Loss: 17.8571 (20.6767), lr: 0.1000\n",
            " 96% 3708/3847 [24:04<01:01,  2.26it/s]Epoch [4/5], Step [15250/19235], Train Loss: 17.9963 (20.6679), lr: 0.1000\n",
            " 98% 3758/3847 [24:24<00:32,  2.77it/s]Epoch [4/5], Step [15300/19235], Train Loss: 17.8672 (20.6588), lr: 0.1000\n",
            " 99% 3808/3847 [24:44<00:14,  2.76it/s]Epoch [4/5], Step [15350/19235], Train Loss: 17.9634 (20.6500), lr: 0.1000\n",
            "100% 3847/3847 [24:58<00:00,  2.57it/s]\n",
            "Model saved to ==> ./models/arcface.pth\n",
            "epoch 5\n",
            "  0% 11/3847 [00:05<23:46,  2.69it/s]Epoch [5/5], Step [15400/19235], Train Loss: 17.7952 (20.6408), lr: 0.1000\n",
            "Best trian loss: 17.795170106472398\n",
            "  2% 61/3847 [00:24<26:22,  2.39it/s]Epoch [5/5], Step [15450/19235], Train Loss: 17.3759 (20.6302), lr: 0.1000\n",
            "Best trian loss: 17.375864295959474\n",
            "  3% 111/3847 [00:44<25:58,  2.40it/s]Epoch [5/5], Step [15500/19235], Train Loss: 17.5594 (20.6203), lr: 0.1000\n",
            "  4% 161/3847 [01:02<24:53,  2.47it/s]Epoch [5/5], Step [15550/19235], Train Loss: 17.4910 (20.6102), lr: 0.1000\n",
            "  5% 211/3847 [01:22<23:58,  2.53it/s]Epoch [5/5], Step [15600/19235], Train Loss: 17.5643 (20.6005), lr: 0.1000\n",
            "  7% 261/3847 [01:41<21:31,  2.78it/s]Epoch [5/5], Step [15650/19235], Train Loss: 17.6542 (20.5911), lr: 0.1000\n",
            "  8% 311/3847 [02:00<21:20,  2.76it/s]Epoch [5/5], Step [15700/19235], Train Loss: 17.4728 (20.5811), lr: 0.1000\n",
            "  9% 361/3847 [02:20<24:29,  2.37it/s]Epoch [5/5], Step [15750/19235], Train Loss: 17.6274 (20.5717), lr: 0.1000\n",
            " 11% 411/3847 [02:41<22:56,  2.50it/s]Epoch [5/5], Step [15800/19235], Train Loss: 17.6775 (20.5626), lr: 0.1000\n",
            " 12% 461/3847 [03:00<23:17,  2.42it/s]Epoch [5/5], Step [15850/19235], Train Loss: 17.7659 (20.5538), lr: 0.1000\n",
            " 13% 511/3847 [03:19<22:49,  2.44it/s]Epoch [5/5], Step [15900/19235], Train Loss: 17.6885 (20.5448), lr: 0.1000\n",
            " 15% 561/3847 [03:38<21:28,  2.55it/s]Epoch [5/5], Step [15950/19235], Train Loss: 17.5951 (20.5355), lr: 0.1000\n",
            " 16% 611/3847 [03:58<19:30,  2.77it/s]Epoch [5/5], Step [16000/19235], Train Loss: 17.6803 (20.5266), lr: 0.1000\n",
            " 17% 661/3847 [04:17<19:08,  2.77it/s]Epoch [5/5], Step [16050/19235], Train Loss: 17.8124 (20.5181), lr: 0.1000\n",
            " 18% 711/3847 [04:37<19:10,  2.73it/s]Epoch [5/5], Step [16100/19235], Train Loss: 17.8907 (20.5100), lr: 0.1000\n",
            " 20% 761/3847 [04:56<21:26,  2.40it/s]Epoch [5/5], Step [16150/19235], Train Loss: 17.6642 (20.5012), lr: 0.1000\n",
            " 21% 811/3847 [05:15<19:48,  2.55it/s]Epoch [5/5], Step [16200/19235], Train Loss: 17.6275 (20.4923), lr: 0.1000\n",
            " 22% 861/3847 [05:34<19:46,  2.52it/s]Epoch [5/5], Step [16250/19235], Train Loss: 17.7557 (20.4839), lr: 0.1000\n",
            " 24% 911/3847 [05:55<19:06,  2.56it/s]Epoch [5/5], Step [16300/19235], Train Loss: 17.6787 (20.4753), lr: 0.1000\n",
            " 25% 961/3847 [06:14<17:18,  2.78it/s]Epoch [5/5], Step [16350/19235], Train Loss: 17.6574 (20.4666), lr: 0.1000\n",
            " 26% 1011/3847 [06:34<16:59,  2.78it/s]Epoch [5/5], Step [16400/19235], Train Loss: 17.8197 (20.4586), lr: 0.1000\n",
            " 28% 1061/3847 [06:53<17:16,  2.69it/s]Epoch [5/5], Step [16450/19235], Train Loss: 17.8066 (20.4505), lr: 0.1000\n",
            " 29% 1111/3847 [07:13<19:07,  2.39it/s]Epoch [5/5], Step [16500/19235], Train Loss: 17.7478 (20.4423), lr: 0.1000\n",
            " 30% 1161/3847 [07:32<17:30,  2.56it/s]Epoch [5/5], Step [16550/19235], Train Loss: 17.6485 (20.4339), lr: 0.1000\n",
            " 31% 1211/3847 [07:51<17:09,  2.56it/s]Epoch [5/5], Step [16600/19235], Train Loss: 17.5911 (20.4253), lr: 0.1000\n",
            " 33% 1261/3847 [08:10<16:10,  2.66it/s]Epoch [5/5], Step [16650/19235], Train Loss: 17.8333 (20.4175), lr: 0.1000\n",
            " 34% 1311/3847 [08:29<15:14,  2.77it/s]Epoch [5/5], Step [16700/19235], Train Loss: 17.7224 (20.4095), lr: 0.1000\n",
            " 35% 1361/3847 [08:49<14:53,  2.78it/s]Epoch [5/5], Step [16750/19235], Train Loss: 17.7389 (20.4015), lr: 0.1000\n",
            " 37% 1411/3847 [09:08<15:30,  2.62it/s]Epoch [5/5], Step [16800/19235], Train Loss: 17.5462 (20.3930), lr: 0.1000\n",
            " 38% 1461/3847 [09:29<16:53,  2.35it/s]Epoch [5/5], Step [16850/19235], Train Loss: 17.6388 (20.3848), lr: 0.1000\n",
            " 39% 1511/3847 [09:48<15:11,  2.56it/s]Epoch [5/5], Step [16900/19235], Train Loss: 17.6902 (20.3769), lr: 0.1000\n",
            " 41% 1561/3847 [10:07<14:13,  2.68it/s]Epoch [5/5], Step [16950/19235], Train Loss: 17.8129 (20.3693), lr: 0.1000\n",
            " 42% 1611/3847 [10:27<13:28,  2.77it/s]Epoch [5/5], Step [17000/19235], Train Loss: 17.7469 (20.3616), lr: 0.1000\n",
            " 43% 1661/3847 [10:46<13:06,  2.78it/s]Epoch [5/5], Step [17050/19235], Train Loss: 17.7166 (20.3538), lr: 0.1000\n",
            " 44% 1711/3847 [11:06<13:05,  2.72it/s]Epoch [5/5], Step [17100/19235], Train Loss: 17.8057 (20.3464), lr: 0.1000\n",
            " 46% 1761/3847 [11:25<14:36,  2.38it/s]Epoch [5/5], Step [17150/19235], Train Loss: 17.6144 (20.3384), lr: 0.1000\n",
            " 47% 1811/3847 [11:44<14:27,  2.35it/s]Epoch [5/5], Step [17200/19235], Train Loss: 17.9691 (20.3315), lr: 0.1000\n",
            " 48% 1861/3847 [12:03<12:46,  2.59it/s]Epoch [5/5], Step [17250/19235], Train Loss: 17.7978 (20.3242), lr: 0.1000\n",
            " 50% 1911/3847 [12:22<12:11,  2.65it/s]Epoch [5/5], Step [17300/19235], Train Loss: 17.8677 (20.3171), lr: 0.1000\n",
            " 51% 1961/3847 [12:42<13:07,  2.39it/s]Epoch [5/5], Step [17350/19235], Train Loss: 17.7391 (20.3096), lr: 0.1000\n",
            " 52% 2011/3847 [13:03<11:11,  2.73it/s]Epoch [5/5], Step [17400/19235], Train Loss: 17.7279 (20.3022), lr: 0.1000\n",
            " 54% 2061/3847 [13:23<12:41,  2.34it/s]Epoch [5/5], Step [17450/19235], Train Loss: 17.6976 (20.2948), lr: 0.1000\n",
            " 55% 2111/3847 [13:42<11:31,  2.51it/s]Epoch [5/5], Step [17500/19235], Train Loss: 17.6316 (20.2871), lr: 0.1000\n",
            " 56% 2161/3847 [14:01<10:59,  2.56it/s]Epoch [5/5], Step [17550/19235], Train Loss: 17.6535 (20.2796), lr: 0.1000\n",
            " 57% 2211/3847 [14:20<10:07,  2.69it/s]Epoch [5/5], Step [17600/19235], Train Loss: 17.8043 (20.2726), lr: 0.1000\n",
            " 59% 2261/3847 [14:40<09:27,  2.80it/s]Epoch [5/5], Step [17650/19235], Train Loss: 17.7698 (20.2655), lr: 0.1000\n",
            " 60% 2311/3847 [15:00<09:14,  2.77it/s]Epoch [5/5], Step [17700/19235], Train Loss: 17.6691 (20.2582), lr: 0.1000\n",
            " 61% 2361/3847 [15:19<09:37,  2.57it/s]Epoch [5/5], Step [17750/19235], Train Loss: 17.6550 (20.2509), lr: 0.1000\n",
            " 63% 2411/3847 [15:39<09:39,  2.48it/s]Epoch [5/5], Step [17800/19235], Train Loss: 17.7107 (20.2437), lr: 0.1000\n",
            " 64% 2461/3847 [15:58<09:09,  2.52it/s]Epoch [5/5], Step [17850/19235], Train Loss: 17.6361 (20.2364), lr: 0.1000\n",
            " 65% 2511/3847 [16:18<08:54,  2.50it/s]Epoch [5/5], Step [17900/19235], Train Loss: 17.7773 (20.2295), lr: 0.1000\n",
            " 67% 2561/3847 [16:38<07:40,  2.80it/s]Epoch [5/5], Step [17950/19235], Train Loss: 17.8070 (20.2228), lr: 0.1000\n",
            " 68% 2611/3847 [16:58<07:26,  2.77it/s]Epoch [5/5], Step [18000/19235], Train Loss: 17.8448 (20.2162), lr: 0.1000\n",
            " 69% 2661/3847 [17:17<07:30,  2.63it/s]Epoch [5/5], Step [18050/19235], Train Loss: 17.6882 (20.2092), lr: 0.1000\n",
            " 70% 2711/3847 [17:36<07:55,  2.39it/s]Epoch [5/5], Step [18100/19235], Train Loss: 17.6140 (20.2020), lr: 0.1000\n",
            " 72% 2761/3847 [17:55<07:21,  2.46it/s]Epoch [5/5], Step [18150/19235], Train Loss: 17.6730 (20.1951), lr: 0.1000\n",
            " 73% 2811/3847 [18:15<06:47,  2.55it/s]Epoch [5/5], Step [18200/19235], Train Loss: 17.7121 (20.1882), lr: 0.1000\n",
            " 74% 2861/3847 [18:34<05:54,  2.78it/s]Epoch [5/5], Step [18250/19235], Train Loss: 17.6160 (20.1812), lr: 0.1000\n",
            " 76% 2911/3847 [18:54<05:34,  2.80it/s]Epoch [5/5], Step [18300/19235], Train Loss: 17.5900 (20.1741), lr: 0.1000\n",
            " 77% 2961/3847 [19:13<05:29,  2.69it/s]Epoch [5/5], Step [18350/19235], Train Loss: 17.7296 (20.1674), lr: 0.1000\n",
            " 78% 3011/3847 [19:33<06:00,  2.32it/s]Epoch [5/5], Step [18400/19235], Train Loss: 17.7769 (20.1609), lr: 0.1000\n",
            " 80% 3061/3847 [19:54<05:26,  2.40it/s]Epoch [5/5], Step [18450/19235], Train Loss: 17.5329 (20.1538), lr: 0.1000\n",
            " 81% 3111/3847 [20:13<04:45,  2.58it/s]Epoch [5/5], Step [18500/19235], Train Loss: 17.5933 (20.1469), lr: 0.1000\n",
            " 82% 3161/3847 [20:32<04:05,  2.79it/s]Epoch [5/5], Step [18550/19235], Train Loss: 17.5657 (20.1399), lr: 0.1000\n",
            " 83% 3211/3847 [20:52<03:47,  2.80it/s]Epoch [5/5], Step [18600/19235], Train Loss: 17.6840 (20.1333), lr: 0.1000\n",
            " 85% 3261/3847 [21:12<03:29,  2.79it/s]Epoch [5/5], Step [18650/19235], Train Loss: 17.6854 (20.1268), lr: 0.1000\n",
            " 86% 3311/3847 [21:31<03:40,  2.43it/s]Epoch [5/5], Step [18700/19235], Train Loss: 17.5443 (20.1199), lr: 0.1000\n",
            " 87% 3361/3847 [21:50<03:28,  2.34it/s]Epoch [5/5], Step [18750/19235], Train Loss: 17.4569 (20.1128), lr: 0.1000\n",
            " 89% 3411/3847 [22:10<02:58,  2.44it/s]Epoch [5/5], Step [18800/19235], Train Loss: 17.5324 (20.1059), lr: 0.1000\n",
            " 90% 3461/3847 [22:29<02:33,  2.51it/s]Epoch [5/5], Step [18850/19235], Train Loss: 17.5953 (20.0992), lr: 0.1000\n",
            " 91% 3511/3847 [22:48<02:00,  2.80it/s]Epoch [5/5], Step [18900/19235], Train Loss: 17.5015 (20.0924), lr: 0.1000\n",
            " 93% 3561/3847 [23:09<01:59,  2.40it/s]Epoch [5/5], Step [18950/19235], Train Loss: 17.5529 (20.0857), lr: 0.1000\n",
            " 94% 3611/3847 [23:29<01:36,  2.46it/s]Epoch [5/5], Step [19000/19235], Train Loss: 17.6469 (20.0793), lr: 0.1000\n",
            " 95% 3661/3847 [23:48<01:18,  2.36it/s]Epoch [5/5], Step [19050/19235], Train Loss: 17.5908 (20.0727), lr: 0.1000\n",
            " 96% 3711/3847 [24:07<00:54,  2.50it/s]Epoch [5/5], Step [19100/19235], Train Loss: 17.6760 (20.0665), lr: 0.1000\n",
            " 98% 3761/3847 [24:27<00:30,  2.79it/s]Epoch [5/5], Step [19150/19235], Train Loss: 17.5943 (20.0600), lr: 0.1000\n",
            " 99% 3811/3847 [24:46<00:12,  2.80it/s]Epoch [5/5], Step [19200/19235], Train Loss: 17.6810 (20.0538), lr: 0.1000\n",
            "100% 3847/3847 [25:00<00:00,  2.56it/s]\n",
            "Model saved to ==> ./models/arcface.pth\n",
            "Finished Training\n",
            "100% 456/456 [03:15<00:00,  2.34it/s]\n",
            "100% 456/456 [02:56<00:00,  2.59it/s]\n",
            "Distance threshold: 1.0499999523162842\n",
            "100% 51/51 [00:20<00:00,  2.47it/s]\n",
            "Accuracy: 0.9004936747917309\n",
            "              precision    recall  f1-score   support\n",
            "\n",
            "           0       0.86      0.95      0.91      3241\n",
            "           1       0.95      0.85      0.89      3241\n",
            "\n",
            "    accuracy                           0.90      6482\n",
            "   macro avg       0.91      0.90      0.90      6482\n",
            "weighted avg       0.91      0.90      0.90      6482\n",
            "\n",
            "Confusion matrix, without normalization\n",
            "[[3092  149]\n",
            " [ 496 2745]]\n"
          ]
        }
      ],
      "source": [
        "!python main2.py"
      ]
    },
    {
      "cell_type": "code",
      "source": [
        "!git branch -a"
      ],
      "metadata": {
        "colab": {
          "base_uri": "https://localhost:8080/"
        },
        "id": "aq3a2lCXytxg",
        "outputId": "95ac1e39-9bb3-4b6e-fefa-b614eb248f11"
      },
      "execution_count": 4,
      "outputs": [
        {
          "output_type": "stream",
          "name": "stdout",
          "text": [
            "* \u001b[32mmaster\u001b[m\n",
            "  \u001b[31mremotes/origin/HEAD\u001b[m -> origin/master\n",
            "  \u001b[31mremotes/origin/master\u001b[m\n",
            "  \u001b[31mremotes/origin/repro\u001b[m\n"
          ]
        }
      ]
    },
    {
      "cell_type": "code",
      "source": [
        "!git checkout -b feature/arcface"
      ],
      "metadata": {
        "colab": {
          "base_uri": "https://localhost:8080/"
        },
        "id": "8sBghW6Yyx36",
        "outputId": "c12b22c0-d43c-4201-f076-9586515545cb"
      },
      "execution_count": 5,
      "outputs": [
        {
          "output_type": "stream",
          "name": "stdout",
          "text": [
            "Switched to a new branch 'feature/arcface'\n"
          ]
        }
      ]
    },
    {
      "cell_type": "code",
      "source": [
        "!git status"
      ],
      "metadata": {
        "id": "I7Nh5H7Dy5BP"
      },
      "execution_count": null,
      "outputs": []
    },
    {
      "cell_type": "code",
      "source": [
        "!git add  arcface.py dataset.py dataset.py main2.py train.py"
      ],
      "metadata": {
        "id": "BF5dUrK5zHaa"
      },
      "execution_count": 7,
      "outputs": []
    },
    {
      "cell_type": "code",
      "source": [
        "!git commit -m \"arcface changes\""
      ],
      "metadata": {
        "id": "fBDaEpwIzbjx"
      },
      "execution_count": null,
      "outputs": []
    },
    {
      "cell_type": "code",
      "source": [
        "!git config --global user.email m22aie221@iitj.ac.in"
      ],
      "metadata": {
        "id": "VnQZsPrQzh-p"
      },
      "execution_count": 11,
      "outputs": []
    },
    {
      "cell_type": "code",
      "source": [
        "!git config --global user.name \"rajesh-iitj\""
      ],
      "metadata": {
        "id": "wJDSFwZSzu5P"
      },
      "execution_count": 17,
      "outputs": []
    },
    {
      "cell_type": "code",
      "source": [
        "!git push"
      ],
      "metadata": {
        "id": "iJsgr2tXz1Pn"
      },
      "execution_count": null,
      "outputs": []
    },
    {
      "cell_type": "code",
      "source": [
        "!"
      ],
      "metadata": {
        "id": "MQfuVMgJ1e_k"
      },
      "execution_count": null,
      "outputs": []
    }
  ],
  "metadata": {
    "colab": {
      "provenance": [],
      "gpuType": "T4"
    },
    "kernelspec": {
      "display_name": "Python 3",
      "name": "python3"
    },
    "language_info": {
      "name": "python"
    },
    "accelerator": "GPU"
  },
  "nbformat": 4,
  "nbformat_minor": 0
}